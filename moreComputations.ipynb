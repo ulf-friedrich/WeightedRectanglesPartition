{
 "cells": [
  {
   "cell_type": "code",
   "execution_count": 53,
   "metadata": {},
   "outputs": [],
   "source": [
    "import networkx as nx\n",
    "from gurobipy import *\n",
    "import random\n",
    "import numpy as np\n",
    "import matplotlib.pyplot as plt \n",
    "import copy\n",
    "import timeit\n",
    "import time\n",
    "import subprocess\n",
    "import pickle\n",
    "def plotp (m):\n",
    "    data=m[::-1,:]\n",
    "    heatmap = plt.pcolor(data, cmap=plt.cm.tab20, edgecolors='grey', linewidths=2)\n",
    "    for y in range(data.shape[0]):\n",
    "        for x in range(data.shape[1]):\n",
    "            plt.text(x + 0.5, y + 0.5, '%.0f' % data[y, x],\n",
    "                     horizontalalignment='center',\n",
    "                     verticalalignment='center',\n",
    "                     )\n",
    "    plt.gca().axes.get_yaxis().set_visible(False)\n",
    "    plt.gca().axes.get_xaxis().set_visible(False)\n",
    "    plt.show()\n",
    "def start (w,h):\n",
    "    arr = np.zeros(w*h,dtype=int) \n",
    "    arr[:random.randrange(0, w*h+1)]  = 1\n",
    "    np.random.shuffle(arr)\n",
    "    g = np.reshape(arr,(w,h))\n",
    "    return g\n",
    "g=start(5,5)"
   ]
  },
  {
   "cell_type": "code",
   "execution_count": 54,
   "metadata": {},
   "outputs": [],
   "source": [
    "def ln(g):\n",
    "    def sechseck(g):\n",
    "        st = timeit.default_timer()\n",
    "        for i in range(len(g)-1):\n",
    "            for j in range(len(g[0])-1):\n",
    "                if g[i,j]>0:\n",
    "                    if g[i+1,j]>0 and g[i,j+1]>0 and g[i+1,j+1]>0:\n",
    "                        if (i+2 <len(g) and g[i+2,j]>0 and g[i+2,j+1]>0) or (j+2 < len(g[0]) and g[i,j+2]>0 and g[i+1,j+2]>0):\n",
    "                            return True\n",
    "        return False\n",
    "    def rest(g):\n",
    "        st = timeit.default_timer()\n",
    "        for i in range(1,len(g)-1):\n",
    "            for j in range(1,len(g[0])-1):\n",
    "                if g[i,j-1]==1 and g[i-1,j]==1 and g[i,j]==1 and g[i+1,j]==1 and g[i,j+1]==1 and ((g[i-1,j+1]==1 and g[i+1,j-1]==1) or (g[i-1,j-1]==1 and g[i+1,j+1]==1)):\n",
    "                    return True\n",
    "        return False\n",
    "    def cycles(g):\n",
    "        st = timeit.default_timer()\n",
    "        pixels=set()\n",
    "        w,h = len(g),len(g[0])\n",
    "        for i in range(w):\n",
    "            for j in range(h):\n",
    "                if g[i,j]==1:\n",
    "                    pixels.add((i,j))\n",
    "        while pixels:\n",
    "            root = pixels.pop()\n",
    "            stack = [root]\n",
    "            pred = {root: root}\n",
    "            used = {root: set()}\n",
    "            while stack:\n",
    "                z = stack.pop()\n",
    "                zused = used[z]\n",
    "                q=[]\n",
    "                i,j = z\n",
    "                if i>0 and g[i-1,j]==1:\n",
    "                    q.append((i-1,j))\n",
    "                if i<w-1 and g[i+1,j]==1:\n",
    "                    q.append((i+1,j))\n",
    "                if j>0 and g[i,j-1]==1:\n",
    "                    q.append((i,j-1))\n",
    "                if j<h-1 and g[i,j+1]==1:\n",
    "                    q.append((i,j+1))\n",
    "                for nb in q:\n",
    "                    if nb not in used:\n",
    "                        pred[nb] = z\n",
    "                        stack.append(nb)\n",
    "                        used[nb] = {z}\n",
    "                    elif nb == z: continue\n",
    "                    elif nb not in zused:\n",
    "                        pn = used[nb]\n",
    "                        cycle = [nb, z]\n",
    "                        p = pred[z]\n",
    "                        while p not in pn:\n",
    "                            cycle.append(p)\n",
    "                            p = pred[p]\n",
    "                        cycle.append(p)\n",
    "                        if len(cycle)>4: \n",
    "                            return True\n",
    "                        used[nb].add(z)\n",
    "            pixels -= set(pred)\n",
    "        return False\n",
    "    if sechseck(g) and rest(g) and cycles(g):\n",
    "        return False\n",
    "    else: return True"
   ]
  },
  {
   "cell_type": "code",
   "execution_count": 55,
   "metadata": {},
   "outputs": [
    {
     "data": {
      "image/png": "[encoded data removed]",
      "text/plain": [
       "<Figure size 640x480 with 1 Axes>"
      ]
     },
     "metadata": {},
     "output_type": "display_data"
    },
    {
     "data": {
      "text/plain": [
       "array([[1., 1., 1., 0., 0., 0., 0., 0., 0., 0., 0., 0., 1., 0., 0., 0.,\n",
       "        0., 0., 0.],\n",
       "       [1., 0., 1., 1., 1., 0., 0., 0., 0., 0., 0., 0., 0., 1., 0., 0.,\n",
       "        0., 0., 0.],\n",
       "       [0., 1., 1., 0., 0., 1., 1., 0., 0., 0., 0., 0., 0., 0., 1., 0.,\n",
       "        0., 0., 0.],\n",
       "       [0., 0., 1., 1., 1., 1., 1., 1., 1., 1., 0., 0., 0., 0., 0., 1.,\n",
       "        0., 0., 0.],\n",
       "       [0., 0., 0., 0., 0., 0., 1., 1., 0., 1., 1., 0., 0., 0., 0., 0.,\n",
       "        1., 0., 0.],\n",
       "       [0., 0., 0., 0., 1., 0., 0., 0., 1., 1., 0., 1., 0., 0., 0., 0.,\n",
       "        0., 1., 0.],\n",
       "       [0., 0., 0., 0., 0., 0., 0., 0., 0., 1., 1., 1., 0., 0., 0., 0.,\n",
       "        0., 0., 1.]])"
      ]
     },
     "execution_count": 55,
     "metadata": {},
     "output_type": "execute_result"
    }
   ],
   "source": [
    "def computeIpMatrix(g):\n",
    "\n",
    "    def black(g):\n",
    "        aa=0\n",
    "        a=copy.deepcopy(g)\n",
    "        b=1\n",
    "        for i in range(len(g)):\n",
    "            for j in range(len(g[0])):\n",
    "                if g[i,j]==1:\n",
    "                    a[i,j]=b\n",
    "                    b+=1\n",
    "                    aa+=1\n",
    "        return a,aa\n",
    "        \n",
    "    a,b=black(g)\n",
    "    w,h=len(g),len(g[0])\n",
    "    rects=[]\n",
    "    for i in range(0,w):\n",
    "        for j in range(0,h):\n",
    "            if g[i][j]!=0:\n",
    "                d=h\n",
    "                for ii in range(i,w):\n",
    "                    for jj in range(j,d):\n",
    "                        if g[ii][jj]==0: \n",
    "                            d=jj\n",
    "                            break\n",
    "                        if  i !=ii or j!=jj:\n",
    "                            x=np.zeros(b)\n",
    "\n",
    "                            for k in range(i,ii+1):\n",
    "                                for kk in range(j,jj+1):\n",
    "                                    x[a[k,kk]-1]=1\n",
    "                            rects.append(x)\n",
    "    rects=np.array(rects) \n",
    "    rects=np.transpose(rects)\n",
    "    if len(rects)>0:\n",
    "        rects=rects[~np.all(rects == 0, axis=1)]\n",
    "        if len(rects)<b:\n",
    "            for i in range(b-len(rects)):\n",
    "                rects= np.vstack((rects,np.zeros(len(rects[0]))))\n",
    "        A = np.concatenate((rects,np.identity(b)),axis=1)\n",
    "    else:\n",
    "        A=np.identity(b)\n",
    "\n",
    "    return A\n",
    "\n",
    "g=[[1,1,0],\n",
    " [1,1,1],\n",
    " [0,1,1]]\n",
    "g=np.reshape(g,(3,3))\n",
    "#g=start(5,5)\n",
    "plotp(g)\n",
    "computeIpMatrix(g)"
   ]
  },
  {
   "cell_type": "code",
   "execution_count": 56,
   "metadata": {},
   "outputs": [],
   "source": [
    "def ip(g):\n",
    "    st=timeit.default_timer()\n",
    "    if len(g) == 0:\n",
    "        return 0,0\n",
    "    w,h=len(g),len(g[0])\n",
    "    rect=[]\n",
    "    gg = [[[] for i in range(h)] for j in range(w)]\n",
    "    for i in range(w):\n",
    "        for j in range(h):\n",
    "            if g[i][j]!=0:\n",
    "                d=h\n",
    "                for ii in range(i,w):\n",
    "                    for jj in range(j,d):\n",
    "                        if g[ii][jj]==0: \n",
    "                            d=jj\n",
    "                            break\n",
    "                        for iii in range(i,ii+1):\n",
    "                            for jjj in range(j,jj+1):\n",
    "                                gg[iii][jjj].append((i,j,ii,jj))\n",
    "                        rect.append((i,j,ii,jj))\n",
    "    rechte=timeit.default_timer()-st\n",
    "    m = Model()\n",
    "    m.Params.OutputFlag=0\n",
    "    rects = m.addVars(rect,vtype=GRB.BINARY,name='Rects')\n",
    "    st=timeit.default_timer()\n",
    "    for i in range(w):\n",
    "        for j in range(h):\n",
    "            if g[i,j]!=0:\n",
    "                m.addConstr(sum(rects[x] for x in gg[i][j])==1) \n",
    "    m.setObjective(sum(rects[x]*(x[2]-x[0]+1)*(x[3]-x[1]+1)*(x[2]-x[0]+1)*(x[3]-x[1]+1) for x in rect), GRB.MAXIMIZE)\n",
    "    m.Params.Heuristics=0\n",
    "    m.Params.Presolve=0\n",
    "    m.optimize()\n",
    "    return m.objVal, m.Runtime"
   ]
  },
  {
   "cell_type": "code",
   "execution_count": 66,
   "metadata": {},
   "outputs": [
    {
     "name": "stdout",
     "output_type": "stream",
     "text": [
      "round 1 of 5\n",
      "round 2 of 5\n",
      "round 3 of 5\n",
      "round 4 of 5\n",
      "round 5 of 5\n"
     ]
    }
   ],
   "source": [
    "stepsize = range(5,26,5) # for real data\n",
    "stepsize = range(2,4,1) # for testing\n",
    "\n",
    "wdh = 5\n",
    "\n",
    "timeUnbalanced = [[] for x in stepsize]\n",
    "timeBalanced = [[] for x in stepsize]\n",
    "\n",
    "for z in range(wdh):\n",
    "    print(\"round\",z+1,\"of\",wdh)\n",
    "    i = 0\n",
    "    for x in stepsize:\n",
    "\n",
    "        fileObj2 = open('fields%s.obj'%x, 'rb')\n",
    "        fields = pickle.load(fileObj2)\n",
    "        fileObj2.close()\n",
    "\n",
    "        for j in range(len(fields)):\n",
    "            time = ip(computeIpMatrix(np.reshape(fields[j],(x,x))))[1]\n",
    "            \n",
    "            if ln(fields[j]):\n",
    "                timeBalanced[i].append(time)\n",
    "            else:\n",
    "                timeUnbalanced[i].append(time)\n",
    "        i = i+1\n"
   ]
  },
  {
   "cell_type": "code",
   "execution_count": 67,
   "metadata": {},
   "outputs": [
    {
     "name": "stdout",
     "output_type": "stream",
     "text": [
      "Total solving times for the balanced problem fields\n"
     ]
    },
    {
     "data": {
      "text/plain": [
       "[0.07700581550598144, 0.0652472972869873]"
      ]
     },
     "metadata": {},
     "output_type": "display_data"
    },
    {
     "name": "stdout",
     "output_type": "stream",
     "text": [
      "Total solving times for the unbalanced problem fields\n"
     ]
    },
    {
     "data": {
      "text/plain": [
       "[0.0, 0.020616579055786132]"
      ]
     },
     "metadata": {},
     "output_type": "display_data"
    }
   ],
   "source": [
    "resultsTimeBalanced = []\n",
    "for array in timeBalanced:\n",
    "    resultsTimeBalanced.append(sum(array)/wdh)\n",
    "print(\"Total solving times for the balanced problem fields\")\n",
    "display(resultsTimeBalanced)\n",
    "\n",
    "resultsTimeUnbalanced = []\n",
    "for array in timeUnbalanced:\n",
    "    resultsTimeUnbalanced.append(sum(array)/wdh)\n",
    "print(\"Total solving times for the unbalanced problem fields\")\n",
    "\n",
    "display(resultsTimeUnbalanced)"
   ]
  },
  {
   "cell_type": "code",
   "execution_count": 68,
   "metadata": {},
   "outputs": [
    {
     "name": "stdout",
     "output_type": "stream",
     "text": [
      "Average solving times for the balanced problem fields\n"
     ]
    },
    {
     "data": {
      "text/plain": [
       "[0.00015401163101196288, 0.000146623139970758]"
      ]
     },
     "metadata": {},
     "output_type": "display_data"
    },
    {
     "ename": "ZeroDivisionError",
     "evalue": "float division by zero",
     "output_type": "error",
     "traceback": [
      "\u001b[0;31m---------------------------------------------------------------------------\u001b[0m",
      "\u001b[0;31mZeroDivisionError\u001b[0m                         Traceback (most recent call last)",
      "\u001b[1;32m/home/p/Desktop/Ulf/newComputations/WeightedRectanglesPartition/moreComputations.ipynb Cell 7\u001b[0m in \u001b[0;36m<cell line: 8>\u001b[0;34m()\u001b[0m\n\u001b[1;32m      <a href='vscode-notebook-cell:/home/p/Desktop/Ulf/newComputations/WeightedRectanglesPartition/moreComputations.ipynb#W6sZmlsZQ%3D%3D?line=6'>7</a>\u001b[0m resultsTimeUnbalanced \u001b[39m=\u001b[39m []\n\u001b[1;32m      <a href='vscode-notebook-cell:/home/p/Desktop/Ulf/newComputations/WeightedRectanglesPartition/moreComputations.ipynb#W6sZmlsZQ%3D%3D?line=7'>8</a>\u001b[0m \u001b[39mfor\u001b[39;00m array \u001b[39min\u001b[39;00m timeUnbalanced:\n\u001b[0;32m----> <a href='vscode-notebook-cell:/home/p/Desktop/Ulf/newComputations/WeightedRectanglesPartition/moreComputations.ipynb#W6sZmlsZQ%3D%3D?line=8'>9</a>\u001b[0m     resultsTimeUnbalanced\u001b[39m.\u001b[39mappend(\u001b[39msum\u001b[39;49m(array)\u001b[39m/\u001b[39;49mwdh\u001b[39m/\u001b[39;49m\u001b[39mlen\u001b[39;49m(array))\n\u001b[1;32m     <a href='vscode-notebook-cell:/home/p/Desktop/Ulf/newComputations/WeightedRectanglesPartition/moreComputations.ipynb#W6sZmlsZQ%3D%3D?line=9'>10</a>\u001b[0m \u001b[39mprint\u001b[39m(\u001b[39m\"\u001b[39m\u001b[39mAverage solving times for the unbalanced problem fields\u001b[39m\u001b[39m\"\u001b[39m)\n\u001b[1;32m     <a href='vscode-notebook-cell:/home/p/Desktop/Ulf/newComputations/WeightedRectanglesPartition/moreComputations.ipynb#W6sZmlsZQ%3D%3D?line=11'>12</a>\u001b[0m display(resultsTimeUnbalanced)\n",
      "\u001b[0;31mZeroDivisionError\u001b[0m: float division by zero"
     ]
    }
   ],
   "source": [
    "resultsTimeBalanced = []\n",
    "for array in timeBalanced:\n",
    "    resultsTimeBalanced.append(sum(array)/wdh/len(array))\n",
    "print(\"Average solving times for the balanced problem fields\")\n",
    "display(resultsTimeBalanced)\n",
    "\n",
    "resultsTimeUnbalanced = []\n",
    "for array in timeUnbalanced:\n",
    "    resultsTimeUnbalanced.append(sum(array)/wdh/len(array))\n",
    "print(\"Average solving times for the unbalanced problem fields\")\n",
    "\n",
    "display(resultsTimeUnbalanced)\n"
   ]
  },
  {
   "cell_type": "code",
   "execution_count": 62,
   "metadata": {},
   "outputs": [],
   "source": [
    "gg = []\n",
    "for i in range(100):\n",
    "    gg.append(start(2,2))\n",
    "fileObj = open('fields2.obj', 'wb')\n",
    "pickle.dump(gg,fileObj)\n",
    "fileObj.close()"
   ]
  }
 ],
 "metadata": {
  "kernelspec": {
   "display_name": "movingpandas",
   "language": "python",
   "name": "python3"
  },
  "language_info": {
   "codemirror_mode": {
    "name": "ipython",
    "version": 3
   },
   "file_extension": ".py",
   "mimetype": "text/x-python",
   "name": "python",
   "nbconvert_exporter": "python",
   "pygments_lexer": "ipython3",
   "version": "3.9.12"
  },
  "orig_nbformat": 4
 },
 "nbformat": 4,
 "nbformat_minor": 2
}
